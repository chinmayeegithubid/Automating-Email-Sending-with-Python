{
 "cells": [
  {
   "cell_type": "markdown",
   "id": "2f94ef95",
   "metadata": {},
   "source": [
    "# Send Emails by using python_by_ChinmayeeNayak"
   ]
  },
  {
   "cell_type": "markdown",
   "id": "19a22c41",
   "metadata": {},
   "source": [
    "# Import necessary modules"
   ]
  },
  {
   "cell_type": "code",
   "execution_count": 11,
   "id": "39c764f1",
   "metadata": {},
   "outputs": [],
   "source": [
    "import os\n",
    "import ssl\n",
    "import smtplib\n",
    "from email.message import EmailMessage"
   ]
  },
  {
   "cell_type": "markdown",
   "id": "31117a42",
   "metadata": {},
   "source": [
    "# Set email sender, password, and receiver"
   ]
  },
  {
   "cell_type": "code",
   "execution_count": 12,
   "id": "213b04b2",
   "metadata": {},
   "outputs": [],
   "source": [
    "email_sender = 'chinmayeenayak662@gmail.com'\n",
    "email_password = 'ghen kgvj trbz qynt'  # Replace with your actual email password or app password\n",
    "email_receiver = 'nchinmayee64@gmail.com'"
   ]
  },
  {
   "cell_type": "markdown",
   "id": "98dbf015",
   "metadata": {},
   "source": [
    "# Set email subject and body"
   ]
  },
  {
   "cell_type": "code",
   "execution_count": 13,
   "id": "b82a6417",
   "metadata": {},
   "outputs": [],
   "source": [
    "subject = 'Testing email'\n",
    "body = \"\"\"I want to check if the email is sending or not.\n",
    "\"\"\""
   ]
  },
  {
   "cell_type": "markdown",
   "id": "e6fd3c43",
   "metadata": {},
   "source": [
    "# Create an EmailMessage object"
   ]
  },
  {
   "cell_type": "code",
   "execution_count": 14,
   "id": "7cb86c45",
   "metadata": {},
   "outputs": [],
   "source": [
    "em = EmailMessage()\n",
    "em['From'] = email_sender\n",
    "em['To'] = email_receiver\n",
    "em['Subject'] = subject\n",
    "em.set_content(body)"
   ]
  },
  {
   "cell_type": "markdown",
   "id": "d5805d35",
   "metadata": {},
   "source": [
    "# Create an SSL context for secure communication"
   ]
  },
  {
   "cell_type": "code",
   "execution_count": 15,
   "id": "8b9ad5fe",
   "metadata": {},
   "outputs": [
    {
     "name": "stdout",
     "output_type": "stream",
     "text": [
      "Email sent successfully!\n"
     ]
    }
   ],
   "source": [
    "context = ssl.create_default_context()\n",
    "try:\n",
    "    # Establish a connection to the SMTP server using SSL\n",
    "    with smtplib.SMTP_SSL('smtp.gmail.com', 465, context=context) as smtp:\n",
    "        # Log in to the email account\n",
    "        smtp.login(email_sender, email_password)\n",
    "        \n",
    "        # Send the email\n",
    "        smtp.sendmail(email_sender, email_receiver, em.as_string())\n",
    "        \n",
    "    # Print a success message if the email is sent without errors\n",
    "    print(\"Email sent successfully!\")\n",
    "    # Catch any exceptions that might occur during the process\n",
    "except Exception as e:\n",
    "    # Print an error message if there's an issue sending the email\n",
    "    print(f\"Error sending email: {e}\")"
   ]
  },
  {
   "cell_type": "code",
   "execution_count": null,
   "id": "71975780",
   "metadata": {},
   "outputs": [],
   "source": []
  }
 ],
 "metadata": {
  "kernelspec": {
   "display_name": "Python 3 (ipykernel)",
   "language": "python",
   "name": "python3"
  },
  "language_info": {
   "codemirror_mode": {
    "name": "ipython",
    "version": 3
   },
   "file_extension": ".py",
   "mimetype": "text/x-python",
   "name": "python",
   "nbconvert_exporter": "python",
   "pygments_lexer": "ipython3",
   "version": "3.11.5"
  }
 },
 "nbformat": 4,
 "nbformat_minor": 5
}
